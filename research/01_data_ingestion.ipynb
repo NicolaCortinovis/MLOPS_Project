{
 "cells": [
  {
   "cell_type": "markdown",
   "metadata": {},
   "source": [
    "# Data Ingestion\n",
    "\n",
    " This script is responsible for the data ingestion process, so for the downloading of the data. Just for this notebook we will report the steps presented in the README.md"
   ]
  },
  {
   "cell_type": "markdown",
   "metadata": {},
   "source": [
    "We first need to make sure that we are working in the correct directory, we want the main directory to be `mlopsProject`. Make sure to run this only once on your local machine, or restart the kernel if you want to rerun all"
   ]
  },
  {
   "cell_type": "code",
   "execution_count": 1,
   "metadata": {},
   "outputs": [],
   "source": [
    "import os"
   ]
  },
  {
   "cell_type": "markdown",
   "metadata": {},
   "source": [
    "Assuming that `01_data_ingestion.ipynb` is in `mlopsProject/research`"
   ]
  },
  {
   "cell_type": "code",
   "execution_count": 2,
   "metadata": {},
   "outputs": [
    {
     "name": "stdout",
     "output_type": "stream",
     "text": [
      "/home/corti/Desktop/mlopsProject\n"
     ]
    }
   ],
   "source": [
    "os.chdir('../')\n",
    "\n",
    "current_path = os.getcwd() \n",
    "print(current_path) # Should be /mlopsProject"
   ]
  },
  {
   "cell_type": "markdown",
   "metadata": {},
   "source": [
    "#### Step 1\n",
    "\n",
    "Update `config.yaml`"
   ]
  },
  {
   "cell_type": "markdown",
   "metadata": {},
   "source": [
    "#### Step 2\n",
    "\n",
    "Update `params.yaml` (here skipped, no params to be added)"
   ]
  },
  {
   "cell_type": "markdown",
   "metadata": {},
   "source": [
    "#### Step 3\n",
    "\n",
    "Create `entity`\n",
    "\n"
   ]
  },
  {
   "cell_type": "code",
   "execution_count": 3,
   "metadata": {},
   "outputs": [],
   "source": [
    "from dataclasses import dataclass\n",
    "from pathlib import Path"
   ]
  },
  {
   "cell_type": "code",
   "execution_count": 4,
   "metadata": {},
   "outputs": [],
   "source": [
    "# Use the dataclass decorator to automatically add special methods to the class, including __init__ and __repr__\n",
    "# The 'frozen' parameter makes the class immutable (i.e., you can't modify the attributes once an instance is created)\n",
    "\n",
    "@dataclass(frozen = True)\n",
    "class DataIngestionConfig:\n",
    "    root_dir : Path  # The root directory where the data will be stored\n",
    "    source_URL : str  # The URL of the source data\n",
    "    local_data_file : Path  # The path of the local file where the data will be downloaded\n",
    "    unzip_dir : Path  # The directory where the data file will be unzipped"
   ]
  },
  {
   "cell_type": "markdown",
   "metadata": {},
   "source": [
    "#### Step 4\n",
    "\n",
    "Update the `configuration manager`"
   ]
  },
  {
   "cell_type": "code",
   "execution_count": 5,
   "metadata": {},
   "outputs": [],
   "source": [
    "from ConversationSummarizer.constants import *\n",
    "from ConversationSummarizer.utils.common import read_yaml, create_directories"
   ]
  },
  {
   "cell_type": "code",
   "execution_count": 6,
   "metadata": {},
   "outputs": [],
   "source": [
    "# Define a class for managing configurations\n",
    "class ConfigurationManager:\n",
    "    # Initialize the ConfigurationManager with paths to the configuration and parameters files\n",
    "    def __init__(self,\n",
    "                 config_filepath = CONFIG_FILE_PATH,\n",
    "                 params_filepath = PARAMS_FILE_PATH):\n",
    "        \n",
    "        # Read the configuration and parameters files\n",
    "        self.config = read_yaml(config_filepath)\n",
    "        self.params = read_yaml(params_filepath)\n",
    "        \n",
    "        # Create the root directory for storing artifacts\n",
    "        create_directories([self.config.artifacts_root])\n",
    "        \n",
    "    # Define a method for getting the data ingestion configuration\n",
    "    def get_data_ingestion_config(self) -> DataIngestionConfig:\n",
    "        \n",
    "        # Get the data ingestion configuration from the config file\n",
    "        config = self.config.data_ingestion \n",
    "        \n",
    "        # Create the root directory for data ingestion, if it doesn't already exist\n",
    "        create_directories([config.root_dir])\n",
    "        \n",
    "        # Create a DataIngestionConfig object with the configuration values\n",
    "        data_ingestion_config = DataIngestionConfig(\n",
    "            root_dir = config.root_dir,\n",
    "            source_URL = config.source_URL,\n",
    "            local_data_file = config.local_data_file,\n",
    "            unzip_dir = config.unzip_dir\n",
    "        )\n",
    "        \n",
    "        # Return the DataIngestionConfig object\n",
    "        return data_ingestion_config"
   ]
  },
  {
   "cell_type": "markdown",
   "metadata": {},
   "source": [
    "#### Step 5\n",
    "\n",
    "Update the components"
   ]
  },
  {
   "cell_type": "code",
   "execution_count": 7,
   "metadata": {},
   "outputs": [],
   "source": [
    "import os\n",
    "import urllib.request as request # needed to to make HTTP requests\n",
    "import zipfile\n",
    "from ConversationSummarizer.logging import logger\n",
    "from ConversationSummarizer.utils.common import get_size"
   ]
  },
  {
   "cell_type": "code",
   "execution_count": 8,
   "metadata": {},
   "outputs": [],
   "source": [
    "class DataIngestion:\n",
    "    # Initialize the DataIngestion class with a configuration object\n",
    "    def __init__(self, config: DataIngestionConfig):\n",
    "        self.config = config \n",
    "    \n",
    "    # Define a method for downloading a file\n",
    "    def download_file(self):\n",
    "        # Check if the local data file already exists\n",
    "        if not os.path.exists(self.config.local_data_file):\n",
    "            # If not, download the file from the source URL and save it to the local data file path\n",
    "            filename, headers = request.urlretrieve( \n",
    "                url = self.config.source_URL,\n",
    "                filename = self.config.local_data_file\n",
    "            )\n",
    "            # Log the filename and headers of the downloaded file\n",
    "            logger.info(f\"{filename} downloaded with following headers: \\n{headers}\")\n",
    "        \n",
    "        else:\n",
    "            # If the file already exists, log its size\n",
    "            logger.info(f\"File already exists of size: {get_size(Path(self.config.local_data_file))}\")\n",
    "    \n",
    "    def extract_zip_file(self):\n",
    "        # Define the path where the zip file will be extracted\n",
    "        unzip_path = self.config.unzip_dir\n",
    "        \n",
    "        # Create the unzip directory if it doesn't already exist\n",
    "        os.makedirs(unzip_path, exist_ok = True)\n",
    "        \n",
    "        # Open the local data file as a zip file\n",
    "        with zipfile.ZipFile(self.config.local_data_file, \"r\") as zip_ref:\n",
    "            # Extract all the contents of the zip file to the unzip directory\n",
    "            zip_ref.extractall(unzip_path)"
   ]
  },
  {
   "cell_type": "markdown",
   "metadata": {},
   "source": [
    "#### Step 6\n",
    "\n",
    "Update pipeline"
   ]
  },
  {
   "cell_type": "code",
   "execution_count": 9,
   "metadata": {},
   "outputs": [
    {
     "name": "stdout",
     "output_type": "stream",
     "text": [
      "[2024-01-31 22:07:00,977: INFO: common: yaml file: config/config.yaml loaded successfully]\n",
      "[2024-01-31 22:07:00,979: INFO: common: yaml file: params.yaml loaded successfully]\n",
      "[2024-01-31 22:07:00,980: INFO: common: created directory at: artifacts]\n",
      "[2024-01-31 22:07:00,981: INFO: common: created directory at: artifacts/data_ingestion]\n",
      "[2024-01-31 22:07:06,777: INFO: 3707265357: artifacts/data_ingestion/data.zip downloaded with following headers: \n",
      "Connection: close\n",
      "Content-Length: 7903594\n",
      "Cache-Control: max-age=300\n",
      "Content-Security-Policy: default-src 'none'\n",
      "Content-Type: application/zip\n",
      "ETag: \"c1b6d464322975cff5b61efcec056163f6fbc488dd31283f5624d3c4501a2d27\"\n",
      "Last-Modified: Wed, 31 Jan 2024 21:06:17 GMT\n",
      "Strict-Transport-Security: max-age=31557600\n",
      "timing-allow-origin: https://github.com\n",
      "X-Content-Type-Options: nosniff\n",
      "X-Frame-Options: deny\n",
      "x-github-tenant: \n",
      "X-XSS-Protection: 1; mode=block\n",
      "X-GitHub-Request-Id: FB78:0E85:342788D:363BCB7:65BAB648\n",
      "Accept-Ranges: bytes\n",
      "Date: Wed, 31 Jan 2024 21:07:06 GMT\n",
      "Via: 1.1 varnish\n",
      "X-Served-By: cache-lin2290029-LIN\n",
      "X-Cache: HIT\n",
      "X-Cache-Hits: 0\n",
      "X-Timer: S1706735227.517483,VS0,VE1\n",
      "Access-Control-Allow-Origin: *\n",
      "Cross-Origin-Resource-Policy: cross-origin\n",
      "X-Fastly-Request-ID: 7b1b2b8572aef532916a2e6528de45c6b1f30f7d\n",
      "Expires: Wed, 31 Jan 2024 21:12:06 GMT\n",
      "Source-Age: 49\n",
      "Vary: Authorization,Accept-Encoding\n",
      "\n",
      "]\n"
     ]
    }
   ],
   "source": [
    "try:\n",
    "    # Instantiate ConfigurationManager and get the data ingestion configuration\n",
    "    config = ConfigurationManager() \n",
    "    data_ingestion_config = config.get_data_ingestion_config()\n",
    "\n",
    "    # Instantiate DataIngestion with the configuration and perform data ingestion\n",
    "    data_ingestion = DataIngestion(config = data_ingestion_config)\n",
    "    data_ingestion.download_file()\n",
    "    data_ingestion.extract_zip_file()\n",
    "\n",
    "except Exception as e:\n",
    "    # Log the exception before raising it\n",
    "    logger.error(f\"An error occurred during data ingestion: {str(e)}\")\n",
    "    raise"
   ]
  },
  {
   "cell_type": "markdown",
   "metadata": {},
   "source": [
    "#### Step 7 & 8\n",
    "\n",
    "They're done directly in `src/ConversationSummarizer`"
   ]
  }
 ],
 "metadata": {
  "kernelspec": {
   "display_name": "ConvSum",
   "language": "python",
   "name": "python3"
  },
  "language_info": {
   "codemirror_mode": {
    "name": "ipython",
    "version": 3
   },
   "file_extension": ".py",
   "mimetype": "text/x-python",
   "name": "python",
   "nbconvert_exporter": "python",
   "pygments_lexer": "ipython3",
   "version": "3.8.18"
  }
 },
 "nbformat": 4,
 "nbformat_minor": 2
}
