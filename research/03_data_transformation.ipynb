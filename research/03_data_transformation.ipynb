{
 "cells": [
  {
   "cell_type": "markdown",
   "metadata": {},
   "source": [
    "# Data transformation\n",
    "\n",
    "In this script we will be focusing on transforming our raw data into a more suitable format for further analysis or model training."
   ]
  },
  {
   "cell_type": "markdown",
   "metadata": {},
   "source": [
    "We first need to make sure that we are working in the correct directory, we want the main directory to be `mlopsProject`. Make sure to run this only once on your local machine, or restart the kernel if you want to rerun all"
   ]
  },
  {
   "cell_type": "code",
   "execution_count": 1,
   "metadata": {},
   "outputs": [],
   "source": [
    "import os"
   ]
  },
  {
   "cell_type": "markdown",
   "metadata": {},
   "source": [
    "Assuming that `03_data_transformation.ipynb` is in `mlopsProject/research`"
   ]
  },
  {
   "cell_type": "code",
   "execution_count": 2,
   "metadata": {},
   "outputs": [
    {
     "name": "stdout",
     "output_type": "stream",
     "text": [
      "/home/corti/Desktop/mlopsProject\n"
     ]
    }
   ],
   "source": [
    "os.chdir('../')\n",
    "\n",
    "current_path = os.getcwd() \n",
    "print(current_path) # Should be /mlopsProject"
   ]
  },
  {
   "cell_type": "code",
   "execution_count": 3,
   "metadata": {},
   "outputs": [],
   "source": [
    "from dataclasses import dataclass\n",
    "from pathlib import Path"
   ]
  },
  {
   "cell_type": "code",
   "execution_count": 4,
   "metadata": {},
   "outputs": [],
   "source": [
    "@dataclass(frozen = True)\n",
    "class DataTransformationConfig:\n",
    "    root_dir : Path  # The root directory where data transformation artifacts will be stored\n",
    "    data_path : Path  # The path to the dataset that will be transformed\n",
    "    tokenizer_name : str  # The name of the tokenizer that will be used to transform the data"
   ]
  },
  {
   "cell_type": "code",
   "execution_count": 5,
   "metadata": {},
   "outputs": [],
   "source": [
    "from ConversationSummarizer.constants import *\n",
    "from ConversationSummarizer.utils.common import read_yaml, create_directories"
   ]
  },
  {
   "cell_type": "code",
   "execution_count": 6,
   "metadata": {},
   "outputs": [],
   "source": [
    "# Define a class for managing configurations\n",
    "class ConfigurationManager:\n",
    "    # Initialize the ConfigurationManager with paths to the configuration and parameters files\n",
    "    def __init__(self,\n",
    "                 config_filepath = CONFIG_FILE_PATH,\n",
    "                 params_filepath = PARAMS_FILE_PATH):\n",
    "        \n",
    "        # Read the configuration and parameters files\n",
    "        self.config = read_yaml(config_filepath)\n",
    "        self.params = read_yaml(params_filepath)\n",
    "        \n",
    "        # Create the root directory for storing artifacts\n",
    "        create_directories([self.config.artifacts_root])\n",
    "        \n",
    "    # Define a method for getting the data transformation configuration\n",
    "    def get_data_transformation_config(self) -> DataTransformationConfig:\n",
    "        \n",
    "        # Get the data transformation configuration from the config file\n",
    "        config = self.config.data_transformation\n",
    "        \n",
    "        # Create the root directory for data transformation, if it doesn't already exist\n",
    "        create_directories([config.root_dir])\n",
    "        \n",
    "        # Create a DataTransformationConfig object with the configuration values\n",
    "        data_transformation_config = DataTransformationConfig(\n",
    "            root_dir = config.root_dir,\n",
    "            data_path = config.data_path,\n",
    "            tokenizer_name = config.tokenizer_name\n",
    "        )\n",
    "        \n",
    "        # Return the DataTransformationConfig object\n",
    "        return data_transformation_config"
   ]
  },
  {
   "cell_type": "code",
   "execution_count": 7,
   "metadata": {},
   "outputs": [
    {
     "name": "stderr",
     "output_type": "stream",
     "text": [
      "/home/corti/anaconda3/envs/ConvSum/lib/python3.8/site-packages/tqdm/auto.py:21: TqdmWarning: IProgress not found. Please update jupyter and ipywidgets. See https://ipywidgets.readthedocs.io/en/stable/user_install.html\n",
      "  from .autonotebook import tqdm as notebook_tqdm\n"
     ]
    },
    {
     "name": "stdout",
     "output_type": "stream",
     "text": [
      "[2024-01-31 23:34:58,590: INFO: config: PyTorch version 2.2.0 available.]\n"
     ]
    }
   ],
   "source": [
    "import os\n",
    "from transformers import AutoTokenizer\n",
    "from datasets import load_from_disk\n",
    "from ConversationSummarizer.logging import logger"
   ]
  },
  {
   "cell_type": "code",
   "execution_count": 8,
   "metadata": {},
   "outputs": [],
   "source": [
    "class DataTransformation:\n",
    "    \n",
    "    def __init__(self, config: DataTransformationConfig):\n",
    "        self.config = config\n",
    "        # Load the tokenizer from the pretrained model specified in the config\n",
    "        self.tokenizer = AutoTokenizer.from_pretrained(self.config.tokenizer_name)\n",
    "    \n",
    "    \n",
    "    def convert_examples_to_features(self,example_batch):\n",
    "        \"\"\"\n",
    "        Convert a batch of examples to model features.\n",
    "\n",
    "        Args:\n",
    "            example_batch: A batch of examples.\n",
    "                Each example is a dictionary with 'dialogue' and 'summary' keys.\n",
    "\n",
    "        Returns:\n",
    "            Dict: A dictionary with keys 'input_ids', 'attention_mask', and 'labels'.\n",
    "                Each value is a list of tokenized inputs.\n",
    "\n",
    "        Raises:\n",
    "            ValueError: If 'dialogue' or 'summary' keys are not in example_batch.\n",
    "        \"\"\"\n",
    "        if 'dialogue' not in example_batch or 'summary' not in example_batch:\n",
    "            raise ValueError(\"'dialogue' and 'summary' keys must be in example_batch\")\n",
    "\n",
    "        # Tokenize the 'dialogue' field of each example in the batch.\n",
    "        input_encodings = self.tokenizer(example_batch['dialogue'], max_length = MAX_INPUT_LENGTH, truncation=True)\n",
    "\n",
    "        # Use the tokenizer as a target tokenizer.\n",
    "        with self.tokenizer.as_target_tokenizer():\n",
    "            # Tokenize the 'summary' field of each example in the batch.\n",
    "            target_encodings = self.tokenizer(example_batch['summary'], max_length = MAX_TARGET_LENGTH, truncation=True)\n",
    "\n",
    "        # Return a dictionary containing the input IDs, attention masks, and labels for each example in the batch.\n",
    "        return {\n",
    "            'input_ids': input_encodings['input_ids'],\n",
    "            'attention_mask': input_encodings['attention_mask'],\n",
    "            'labels': target_encodings['input_ids']\n",
    "        }\n",
    "        \n",
    "    def convert(self):\n",
    "        # Load the dataset from the specified path\n",
    "        samsum_dataset = load_from_disk(self.config.data_path)\n",
    "\n",
    "        # Apply the function 'convert_examples_to_features' to all elements in the dataset\n",
    "        # The 'map' function applies the specified function to each element in the dataset\n",
    "        # The 'batched=True' argument means that the function is applied to batches of elements, not individual elements\n",
    "        samsum_dataset_processed = samsum_dataset.map(self.convert_examples_to_features, batched=True)\n",
    "\n",
    "        # Save the processed dataset to the specified path\n",
    "        # The 'os.path.join' function is used to create the path by joining the root directory and the file name\n",
    "        samsum_dataset_processed.save_to_disk(os.path.join(self.config.root_dir, 'samsum_dataset_processed'))\n",
    "                "
   ]
  },
  {
   "cell_type": "code",
   "execution_count": 9,
   "metadata": {},
   "outputs": [
    {
     "name": "stdout",
     "output_type": "stream",
     "text": [
      "[2024-01-31 23:34:58,764: INFO: common: yaml file: config/config.yaml loaded successfully]\n",
      "[2024-01-31 23:34:58,765: INFO: common: yaml file: params.yaml loaded successfully]\n",
      "[2024-01-31 23:34:58,766: INFO: common: created directory at: artifacts]\n",
      "[2024-01-31 23:34:58,767: INFO: common: created directory at: artifacts/data_transformation]\n"
     ]
    },
    {
     "name": "stderr",
     "output_type": "stream",
     "text": [
      "Map:   0%|          | 0/14732 [00:00<?, ? examples/s]/home/corti/anaconda3/envs/ConvSum/lib/python3.8/site-packages/transformers/tokenization_utils_base.py:3866: UserWarning: `as_target_tokenizer` is deprecated and will be removed in v5 of Transformers. You can tokenize your labels by using the argument `text_target` of the regular `__call__` method (either in the same call as your input texts if you use the same keyword arguments, or in a separate call.\n",
      "  warnings.warn(\n",
      "Map: 100%|██████████| 14732/14732 [00:02<00:00, 5526.11 examples/s]\n",
      "Map: 100%|██████████| 819/819 [00:00<00:00, 5241.27 examples/s]\n",
      "Map: 100%|██████████| 818/818 [00:00<00:00, 5645.90 examples/s]\n",
      "Saving the dataset (1/1 shards): 100%|██████████| 14732/14732 [00:00<00:00, 130972.26 examples/s]\n",
      "Saving the dataset (1/1 shards): 100%|██████████| 819/819 [00:00<00:00, 120683.49 examples/s]\n",
      "Saving the dataset (1/1 shards): 100%|██████████| 818/818 [00:00<00:00, 155260.23 examples/s]\n"
     ]
    }
   ],
   "source": [
    "try:\n",
    "    # Instantiate ConfigurationManager and get the data transformation configuration\n",
    "    config = ConfigurationManager() \n",
    "    data_transformation_config = config.get_data_transformation_config()\n",
    "\n",
    "    # Instantiate DataTransformation with the configuration and perform data transformation\n",
    "    data_transformation = DataTransformation(config = data_transformation_config)\n",
    "    data_transformation.convert()\n",
    "\n",
    "except (TypeError, AttributeError) as e:\n",
    "    # Log the exception before raising it\n",
    "    logger.error(f\"An error occurred during data transformation: {str(e)}\")\n",
    "    raise"
   ]
  }
 ],
 "metadata": {
  "kernelspec": {
   "display_name": "ConvSum",
   "language": "python",
   "name": "python3"
  },
  "language_info": {
   "codemirror_mode": {
    "name": "ipython",
    "version": 3
   },
   "file_extension": ".py",
   "mimetype": "text/x-python",
   "name": "python",
   "nbconvert_exporter": "python",
   "pygments_lexer": "ipython3",
   "version": "3.8.18"
  }
 },
 "nbformat": 4,
 "nbformat_minor": 2
}
