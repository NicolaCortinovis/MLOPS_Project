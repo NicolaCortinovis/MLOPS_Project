{
 "cells": [
  {
   "cell_type": "markdown",
   "metadata": {},
   "source": [
    "# Data validation\n",
    "\n",
    "In this script we will perform data validation in our data pipeline. Data validation is the process of ensuring that the data we are working with is correct."
   ]
  },
  {
   "cell_type": "markdown",
   "metadata": {},
   "source": [
    "We first need to make sure that we are working in the correct directory, we want the main directory to be `mlopsProject`. Make sure to run this only once on your local machine, or restart the kernel if you want to rerun all"
   ]
  },
  {
   "cell_type": "code",
   "execution_count": 1,
   "metadata": {},
   "outputs": [],
   "source": [
    "import os"
   ]
  },
  {
   "cell_type": "markdown",
   "metadata": {},
   "source": [
    "Assuming that `02_data_validation.ipynb` is in `mlopsProject/research`"
   ]
  },
  {
   "cell_type": "code",
   "execution_count": 2,
   "metadata": {},
   "outputs": [
    {
     "name": "stdout",
     "output_type": "stream",
     "text": [
      "/home/corti/Desktop/mlopsProject\n"
     ]
    }
   ],
   "source": [
    "os.chdir('../')\n",
    "\n",
    "current_path = os.getcwd() \n",
    "print(current_path) # Should be /mlopsProject"
   ]
  },
  {
   "cell_type": "code",
   "execution_count": 3,
   "metadata": {},
   "outputs": [],
   "source": [
    "from dataclasses import dataclass\n",
    "from pathlib import Path"
   ]
  },
  {
   "cell_type": "code",
   "execution_count": 4,
   "metadata": {},
   "outputs": [],
   "source": [
    "@dataclass(frozen = True)\n",
    "class DataValidationConfig:\n",
    "    root_dir : Path # The root directory for data validation\n",
    "    STATUS_FILE : str  # Status file to check if data validation was successful\n",
    "    ALL_REQUIRED_FILES : list # List of all required files"
   ]
  },
  {
   "cell_type": "code",
   "execution_count": 5,
   "metadata": {},
   "outputs": [],
   "source": [
    "from ConversationSummarizer.constants import *\n",
    "from ConversationSummarizer.utils.common import read_yaml, create_directories"
   ]
  },
  {
   "cell_type": "code",
   "execution_count": 6,
   "metadata": {},
   "outputs": [],
   "source": [
    "# Define a class for managing configurations\n",
    "class ConfigurationManager:\n",
    "    # Initialize the ConfigurationManager with paths to the configuration and parameters files\n",
    "    def __init__(self,\n",
    "                 config_filepath = CONFIG_FILE_PATH,\n",
    "                 params_filepath = PARAMS_FILE_PATH):\n",
    "        \n",
    "        # Read the configuration and parameters files\n",
    "        self.config = read_yaml(config_filepath)\n",
    "        self.params = read_yaml(params_filepath)\n",
    "        \n",
    "        # Create the root directory for storing artifacts\n",
    "        create_directories([self.config.artifacts_root])\n",
    "        \n",
    "    # Define a method for getting the data validation configuration\n",
    "    def get_data_validation_config(self) -> DataValidationConfig:\n",
    "        \n",
    "        # Get the data validation configuration from the config file\n",
    "        config = self.config.data_validation\n",
    "        \n",
    "        # Create the root directory for data validation, if it doesn't already exist\n",
    "        create_directories([config.root_dir])\n",
    "        \n",
    "        # Create a DataIngestionConfig object with the configuration values\n",
    "        data_validation_config = DataValidationConfig(\n",
    "            root_dir = config.root_dir,\n",
    "            STATUS_FILE = config.STATUS_FILE,\n",
    "            ALL_REQUIRED_FILES = config.ALL_REQUIRED_FILES\n",
    "        )\n",
    "        \n",
    "        # Return the DataValidationConfig object\n",
    "        return data_validation_config"
   ]
  },
  {
   "cell_type": "code",
   "execution_count": 7,
   "metadata": {},
   "outputs": [],
   "source": [
    "import os\n",
    "from ConversationSummarizer.logging import logger"
   ]
  },
  {
   "cell_type": "code",
   "execution_count": 8,
   "metadata": {},
   "outputs": [],
   "source": [
    "class DataValidation:\n",
    "    def __init__(self, config: DataValidationConfig):\n",
    "        self.config = config\n",
    "\n",
    "    def validate_all_files_exists(self) -> bool:\n",
    "        try:\n",
    "            # Get the list of all files in the specified directory\n",
    "            all_files = os.listdir((os.path.join(\"artifacts\",\"data_ingestion\",\"samsum_dataset\")))\n",
    "\n",
    "            # Check if all required files are present\n",
    "            missing_files = [file for file in self.config.ALL_REQUIRED_FILES if file not in all_files]\n",
    "\n",
    "            # If there are missing files, validation fails\n",
    "            validation_status = len(missing_files) == 0\n",
    "\n",
    "            # Write the validation status to the status file\n",
    "            with open(self.config.STATUS_FILE, \"w\") as f:\n",
    "                f.write(f\"Validation status: {validation_status}\")\n",
    "\n",
    "            return validation_status\n",
    "\n",
    "        except Exception as e:\n",
    "            # Log the error message and the stack trace\n",
    "            logger.error(f\"An error occurred during file validation: {e}\", exc_info=True)\n",
    "            raise\n",
    "        "
   ]
  },
  {
   "cell_type": "code",
   "execution_count": 9,
   "metadata": {},
   "outputs": [
    {
     "name": "stdout",
     "output_type": "stream",
     "text": [
      "[2024-01-31 23:03:58,634: INFO: common: yaml file: config/config.yaml loaded successfully]\n",
      "[2024-01-31 23:03:58,637: INFO: common: yaml file: params.yaml loaded successfully]\n",
      "[2024-01-31 23:03:58,640: INFO: common: created directory at: artifacts]\n",
      "[2024-01-31 23:03:58,644: INFO: common: created directory at: artifacts/data_validation]\n"
     ]
    }
   ],
   "source": [
    "try:\n",
    "    # Instantiate ConfigurationManager and get the data validation configuration\n",
    "    config = ConfigurationManager() \n",
    "    data_validation_config = config.get_data_validation_config()\n",
    "\n",
    "    # Instantiate DataValidation with the configuration and perform data validation\n",
    "    data_validation = DataValidation(config = data_validation_config)\n",
    "    data_validation.validate_all_files_exists()\n",
    "\n",
    "except Exception as e:\n",
    "    # Log the exception before raising it\n",
    "    logger.error(f\"An error occurred during data validation: {str(e)}\")\n",
    "    raise"
   ]
  }
 ],
 "metadata": {
  "kernelspec": {
   "display_name": "ConvSum",
   "language": "python",
   "name": "python3"
  },
  "language_info": {
   "codemirror_mode": {
    "name": "ipython",
    "version": 3
   },
   "file_extension": ".py",
   "mimetype": "text/x-python",
   "name": "python",
   "nbconvert_exporter": "python",
   "pygments_lexer": "ipython3",
   "version": "3.8.18"
  }
 },
 "nbformat": 4,
 "nbformat_minor": 2
}
