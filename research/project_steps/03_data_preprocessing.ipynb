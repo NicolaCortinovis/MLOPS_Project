{
 "cells": [
  {
   "cell_type": "code",
   "execution_count": 11,
   "metadata": {},
   "outputs": [],
   "source": [
    "import os"
   ]
  },
  {
   "cell_type": "code",
   "execution_count": 12,
   "metadata": {},
   "outputs": [],
   "source": [
    "# Go to the directory of the script (MLOPS_Project\\)\n",
    "\n",
    "os.chdir(\"/home/nicola/Projects/MLOPS_Project\")"
   ]
  },
  {
   "cell_type": "code",
   "execution_count": 13,
   "metadata": {},
   "outputs": [
    {
     "data": {
      "text/plain": [
       "'/home/nicola/Projects/MLOPS_Project'"
      ]
     },
     "execution_count": 13,
     "metadata": {},
     "output_type": "execute_result"
    }
   ],
   "source": [
    "os.getcwd()"
   ]
  },
  {
   "cell_type": "code",
   "execution_count": 14,
   "metadata": {},
   "outputs": [],
   "source": [
    "from dataclasses import dataclass \n",
    "from pathlib import Path"
   ]
  },
  {
   "cell_type": "code",
   "execution_count": 15,
   "metadata": {},
   "outputs": [],
   "source": [
    "@dataclass(frozen=True)\n",
    "class DataPreprocessingConfig:\n",
    "    root_dir : Path \n",
    "    data_path : Path \n",
    "    tokenizer_name : str"
   ]
  },
  {
   "cell_type": "code",
   "execution_count": 16,
   "metadata": {},
   "outputs": [],
   "source": [
    "from mlopsProject.constants import *\n",
    "from mlopsProject.utils.common import read_yaml, create_directory, read_jsonl_to_dataset"
   ]
  },
  {
   "cell_type": "code",
   "execution_count": 17,
   "metadata": {},
   "outputs": [],
   "source": [
    "class ConfigurationManager:\n",
    "    def __init__(\n",
    "            self,\n",
    "            config_filepath = CONFIG_FILE_PATH,\n",
    "            params_filepath = PARAMS_FILE_PATH):\n",
    "\n",
    "            self.config = read_yaml(config_filepath)\n",
    "            self.params = read_yaml(params_filepath)\n",
    "\n",
    "            create_directory([self.config.artifacts_root])\n",
    "\n",
    "    def get_data_preprocessing_config(self) -> DataPreprocessingConfig:\n",
    "        \n",
    "        config = self.config.data_preprocessing\n",
    "\n",
    "        create_directory([config.root_dir])\n",
    "\n",
    "        data_preprocessing_config = DataPreprocessingConfig(\n",
    "            root_dir = config.root_dir,\n",
    "            data_path = config.data_path,\n",
    "            tokenizer_name = config.tokenizer_name\n",
    "        )\n",
    "\n",
    "        return data_preprocessing_config"
   ]
  },
  {
   "cell_type": "code",
   "execution_count": 18,
   "metadata": {},
   "outputs": [],
   "source": [
    "import os\n",
    "from mlopsProject.logging import logger \n",
    "from transformers import AutoTokenizer\n",
    "from datasets import DatasetDict, load_from_disk, concatenate_datasets"
   ]
  },
  {
   "cell_type": "code",
   "execution_count": 19,
   "metadata": {},
   "outputs": [],
   "source": [
    "class DataPreprocessing:\n",
    "    \n",
    "    def __init__(self,config : DataPreprocessingConfig):\n",
    "        self.config = config \n",
    "        self.tokenizer = AutoTokenizer.from_pretrained(self.config.tokenizer_name)\n",
    "    \n",
    "    def create_DatasetDict(self):\n",
    "        raw_dataset = DatasetDict({\n",
    "            \"train\": read_jsonl_to_dataset(self.config.data_path + \"/train.jsonl\"),\n",
    "            \"test\": read_jsonl_to_dataset(self.config.data_path + \"/test.jsonl\"),\n",
    "            \"validation\": read_jsonl_to_dataset(self.config.data_path + \"/validation.jsonl\")\n",
    "            })\n",
    "        raw_dataset.save_to_disk(self.config.data_path)\n",
    "\n",
    "    def process(self):\n",
    "        raw_data = load_from_disk(self.config.data_path)\n",
    "        tokenized_inputs = concatenate_datasets(\n",
    "            [raw_data[\"train\"],raw_data[\"validation\"],raw_data[\"test\"]]\n",
    "            ).map(lambda x: self.tokenizer(x[\"paragraph\"], truncation=True), batched=True, remove_columns=['answers', 'questions', 'paragraph', 'questions_answers'])\n",
    "        tokenized_targets = concatenate_datasets(\n",
    "            [raw_data[\"train\"],raw_data[\"validation\"],raw_data[\"test\"]]\n",
    "            ).map(lambda x: self.tokenizer(x[\"questions_answers\"], truncation=True), batched=True, remove_columns=['answers', 'questions', 'paragraph', 'questions_answers'])\n",
    "\n",
    "        tok_input_max = max([len(x) for x in tokenized_inputs[\"input_ids\"]])\n",
    "        tok_target_max = max([len(x) for x in tokenized_targets[\"input_ids\"]])\n",
    "        \n",
    "        def preprocess_function(sample,padding = \"max_length\"):\n",
    "            \n",
    "            inputs = [\"Generate question and answer: \" + item for item in sample[\"paragraph\"]]\n",
    "\n",
    "            model_inputs = self.tokenizer(inputs, max_length=tok_input_max, padding=padding, truncation=True)\n",
    "\n",
    "            labels = self.tokenizer(text_target=sample[\"questions_answers\"], max_length=tok_target_max, padding=padding, truncation=True)\n",
    "\n",
    "            if padding == \"max_length\":\n",
    "                labels[\"input_ids\"] = [\n",
    "                    [(l if l != self.tokenizer.pad_token_id else -100) for l in label] for label in labels[\"input_ids\"]\n",
    "                ]\n",
    "\n",
    "            model_inputs[\"labels\"] = labels[\"input_ids\"]\n",
    "            return model_inputs\n",
    "\n",
    "        tokenized_dataset = raw_data.map(preprocess_function, batched=True, remove_columns=[\"paragraph\", \"questions_answers\", \"answers\",\"questions\"])\n",
    "        tokenized_dataset.save_to_disk(os.path.join(self.config.root_dir, \"tokenized_dataset\"))\n",
    "    "
   ]
  },
  {
   "cell_type": "code",
   "execution_count": 20,
   "metadata": {},
   "outputs": [
    {
     "name": "stdout",
     "output_type": "stream",
     "text": [
      "[2024-01-28 22:28:02,933: INFO: common: file: config/config.yaml loaded correctly]\n",
      "[2024-01-28 22:28:02,934: INFO: common: file: params.yaml loaded correctly]\n",
      "[2024-01-28 22:28:02,936: INFO: common: directory artifacts created]\n",
      "[2024-01-28 22:28:02,937: INFO: common: directory artifacts/data_preprocessing created]\n"
     ]
    },
    {
     "name": "stderr",
     "output_type": "stream",
     "text": [
      "Saving the dataset (1/1 shards): 100%|██████████| 16462/16462 [00:00<00:00, 508230.22 examples/s]\n",
      "Saving the dataset (1/1 shards): 100%|██████████| 2429/2429 [00:00<00:00, 320074.28 examples/s]\n",
      "Saving the dataset (1/1 shards): 100%|██████████| 2067/2067 [00:00<00:00, 283413.74 examples/s]\n",
      "Map: 100%|██████████| 20958/20958 [00:02<00:00, 8565.22 examples/s]\n",
      "Map: 100%|██████████| 20958/20958 [00:01<00:00, 12810.08 examples/s]\n",
      "Map: 100%|██████████| 16462/16462 [00:12<00:00, 1371.39 examples/s]\n",
      "Map: 100%|██████████| 2429/2429 [00:01<00:00, 1367.56 examples/s]\n",
      "Map: 100%|██████████| 2067/2067 [00:01<00:00, 1347.62 examples/s]\n"
     ]
    },
    {
     "name": "stdout",
     "output_type": "stream",
     "text": [
      "Keys of tokenized dataset: ['input_ids', 'attention_mask', 'labels']\n"
     ]
    },
    {
     "name": "stderr",
     "output_type": "stream",
     "text": [
      "Saving the dataset (1/1 shards): 100%|██████████| 16462/16462 [00:00<00:00, 197654.46 examples/s]\n",
      "Saving the dataset (1/1 shards): 100%|██████████| 2429/2429 [00:00<00:00, 110557.29 examples/s]\n",
      "Saving the dataset (1/1 shards): 100%|██████████| 2067/2067 [00:00<00:00, 77749.62 examples/s]"
     ]
    },
    {
     "name": "stdout",
     "output_type": "stream",
     "text": [
      "[2024-01-28 22:28:25,001: INFO: 2523898715: Data preprocess completed!]\n"
     ]
    },
    {
     "name": "stderr",
     "output_type": "stream",
     "text": [
      "\n"
     ]
    }
   ],
   "source": [
    "try:\n",
    "    config = ConfigurationManager()\n",
    "    data_preprocessing_config = config.get_data_preprocessing_config()\n",
    "    data_preprocessing = DataPreprocessing(config = data_preprocessing_config)\n",
    "    data_preprocessing.create_DatasetDict()\n",
    "    data_preprocessing.process()\n",
    "    logger.info(\"Data preprocess completed!\")\n",
    "except Exception as e:\n",
    "    raise e"
   ]
  }
 ],
 "metadata": {
  "kernelspec": {
   "display_name": "MlOps",
   "language": "python",
   "name": "python3"
  },
  "language_info": {
   "codemirror_mode": {
    "name": "ipython",
    "version": 3
   },
   "file_extension": ".py",
   "mimetype": "text/x-python",
   "name": "python",
   "nbconvert_exporter": "python",
   "pygments_lexer": "ipython3",
   "version": "3.8.18"
  }
 },
 "nbformat": 4,
 "nbformat_minor": 2
}
