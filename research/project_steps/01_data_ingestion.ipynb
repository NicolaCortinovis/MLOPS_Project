{
 "cells": [
  {
   "cell_type": "code",
   "execution_count": 1,
   "metadata": {},
   "outputs": [],
   "source": [
    "import os"
   ]
  },
  {
   "cell_type": "code",
   "execution_count": 2,
   "metadata": {},
   "outputs": [],
   "source": [
    "# Go to the directory of the script (MLOPS_Project\\)\n",
    "\n",
    "os.chdir(\"/home/nicola/Projects/MLOPS_Project\")"
   ]
  },
  {
   "cell_type": "code",
   "execution_count": 3,
   "metadata": {},
   "outputs": [
    {
     "data": {
      "text/plain": [
       "'/home/nicola/Projects/MLOPS_Project'"
      ]
     },
     "execution_count": 3,
     "metadata": {},
     "output_type": "execute_result"
    }
   ],
   "source": [
    "os.getcwd()"
   ]
  },
  {
   "cell_type": "code",
   "execution_count": 4,
   "metadata": {},
   "outputs": [
    {
     "name": "stderr",
     "output_type": "stream",
     "text": [
      "/home/nicola/anaconda3/envs/MlOps/lib/python3.8/site-packages/tqdm/auto.py:21: TqdmWarning: IProgress not found. Please update jupyter and ipywidgets. See https://ipywidgets.readthedocs.io/en/stable/user_install.html\n",
      "  from .autonotebook import tqdm as notebook_tqdm\n"
     ]
    }
   ],
   "source": [
    "from dataclasses import dataclass \n",
    "from pathlib import Path"
   ]
  },
  {
   "cell_type": "code",
   "execution_count": 5,
   "metadata": {},
   "outputs": [],
   "source": [
    "@dataclass(frozen = True)\n",
    "class DataIngestionConfig:\n",
    "    root_dir : Path\n",
    "    source_url : str\n",
    "    local_data_file : Path \n",
    "    unzip_dir : Path"
   ]
  },
  {
   "cell_type": "code",
   "execution_count": 6,
   "metadata": {},
   "outputs": [],
   "source": [
    "from mlopsProject.constants import *\n",
    "from mlopsProject.utils.common import read_yaml, create_directory"
   ]
  },
  {
   "cell_type": "code",
   "execution_count": 7,
   "metadata": {},
   "outputs": [],
   "source": [
    "class ConfigurationManager:\n",
    "    def __init__(\n",
    "            self,\n",
    "            config_filepath = CONFIG_FILE_PATH,\n",
    "            params_filepath = PARAMS_FILE_PATH):\n",
    "\n",
    "            self.config = read_yaml(config_filepath)\n",
    "            self.params = read_yaml(params_filepath)\n",
    "\n",
    "            create_directory([self.config.artifacts_root])\n",
    "\n",
    "    def get_data_ingestion_config(self) -> DataIngestionConfig:\n",
    "        \n",
    "        config = self.config.data_ingestion \n",
    "\n",
    "        create_directory([config.root_dir])\n",
    "\n",
    "        data_ingestion_config = DataIngestionConfig(\n",
    "            root_dir = config.root_dir,\n",
    "            source_url = config.source_url,\n",
    "            local_data_file = config.local_data_file,\n",
    "            unzip_dir = config.unzip_dir\n",
    "        )\n",
    "\n",
    "        return data_ingestion_config\n"
   ]
  },
  {
   "cell_type": "code",
   "execution_count": 8,
   "metadata": {},
   "outputs": [],
   "source": [
    "import os\n",
    "import urllib.request as request\n",
    "import zipfile \n",
    "\n",
    "from mlopsProject.logging import logger \n",
    "from mlopsProject.utils.common import get_size"
   ]
  },
  {
   "cell_type": "code",
   "execution_count": 9,
   "metadata": {},
   "outputs": [],
   "source": [
    "class DataIngestion:\n",
    "    def __init__(self, config: DataIngestionConfig):\n",
    "        self.config = config\n",
    "    \n",
    "    def download_data(self):\n",
    "        \"\"\"\n",
    "        Downloads the data from the source url and saves it in the data directory\n",
    "\n",
    "        Function returns None\n",
    "        \"\"\"\n",
    "        if not os.path.exists(self.config.local_data_file):\n",
    "            filename, headers = request.urlretrieve(\n",
    "                url = self.config.source_url, \n",
    "                filename = self.config.local_data_file\n",
    "            )\n",
    "        \n",
    "            logger.info(f\"Downloaded {filename} with following info: \\n{headers}\")\n",
    "        else:\n",
    "            logger.info(f\"{self.config.local_data_file} already exists of size: {get_size(self.config.local_data_file)}\")\n",
    "\n",
    "    def extract_zip_file(self):\n",
    "        \"\"\"\n",
    "        zip_file_path: str\n",
    "        \n",
    "        Extracts the zip file into the data directory\n",
    "        \n",
    "        Function returns None\n",
    "        \"\"\"\n",
    "        unzip_path = self.config.unzip_dir\n",
    "        os.makedirs(unzip_path, exist_ok = True)\n",
    "        with zipfile.ZipFile(self.config.local_data_file, 'r') as zip_ref:\n",
    "            zip_ref.extractall(unzip_path)  \n",
    "    \n",
    "    def delete_local(self):\n",
    "        \"\"\"\n",
    "        Deletes the local data file\n",
    "\n",
    "        Function returns None\n",
    "        \"\"\"\n",
    "        os.remove(self.config.local_data_file)\n",
    "        logger.info(f\"Deleted {self.config.local_data_file}\")"
   ]
  },
  {
   "cell_type": "code",
   "execution_count": 11,
   "metadata": {},
   "outputs": [
    {
     "name": "stdout",
     "output_type": "stream",
     "text": [
      "[2024-01-28 16:33:04,730: INFO: common: file: config/config.yaml loaded correctly]\n",
      "[2024-01-28 16:33:04,732: INFO: common: file: params.yaml loaded correctly]\n",
      "[2024-01-28 16:33:04,733: INFO: common: directory artifacts created]\n",
      "[2024-01-28 16:33:04,734: INFO: common: directory artifacts/data_ingestion created]\n",
      "[2024-01-28 16:33:04,735: INFO: 2096869070: artifacts/data_ingestion/data.zip already exists of size: approx 9565.393 KB]\n",
      "[2024-01-28 16:33:04,891: INFO: 2096869070: Deleted artifacts/data_ingestion/data.zip]\n"
     ]
    }
   ],
   "source": [
    "try:\n",
    "    config_manager = ConfigurationManager()\n",
    "    data_ingestion_config = config_manager.get_data_ingestion_config()\n",
    "    data_ingestion = DataIngestion(config = data_ingestion_config)\n",
    "    data_ingestion.download_data()\n",
    "    data_ingestion.extract_zip_file()\n",
    "    data_ingestion.delete_local()\n",
    "except Exception as e:\n",
    "    raise e"
   ]
  }
 ],
 "metadata": {
  "kernelspec": {
   "display_name": "MlOps",
   "language": "python",
   "name": "python3"
  },
  "language_info": {
   "codemirror_mode": {
    "name": "ipython",
    "version": 3
   },
   "file_extension": ".py",
   "mimetype": "text/x-python",
   "name": "python",
   "nbconvert_exporter": "python",
   "pygments_lexer": "ipython3",
   "version": "3.8.18"
  }
 },
 "nbformat": 4,
 "nbformat_minor": 2
}
